{
  "cells": [
    {
      "cell_type": "code",
      "source": [
        "from google.colab import drive\n",
        "drive.mount('/content/drive')"
      ],
      "metadata": {
        "colab": {
          "base_uri": "https://localhost:8080/"
        },
        "id": "sdxUKn8kpWEL",
        "outputId": "51da88d5-ac65-4cf6-def8-001ec053f72f"
      },
      "execution_count": 1,
      "outputs": [
        {
          "output_type": "stream",
          "name": "stdout",
          "text": [
            "Drive already mounted at /content/drive; to attempt to forcibly remount, call drive.mount(\"/content/drive\", force_remount=True).\n"
          ]
        }
      ]
    },
    {
      "cell_type": "code",
      "source": [
        "!git clone https://github.com/resemble-ai/Resemblyzer.git\n",
        "!cd Resemblyzer"
      ],
      "metadata": {
        "colab": {
          "base_uri": "https://localhost:8080/"
        },
        "id": "VlsOMksjgyAB",
        "outputId": "bdfe5bb5-185e-4166-a401-84e9f3ab5939"
      },
      "execution_count": 1,
      "outputs": [
        {
          "output_type": "stream",
          "name": "stdout",
          "text": [
            "Cloning into 'Resemblyzer'...\n",
            "remote: Enumerating objects: 624, done.\u001b[K\n",
            "remote: Counting objects: 100% (82/82), done.\u001b[K\n",
            "remote: Compressing objects: 100% (23/23), done.\u001b[K\n",
            "remote: Total 624 (delta 69), reused 60 (delta 59), pack-reused 542\u001b[K\n",
            "Receiving objects: 100% (624/624), 101.46 MiB | 38.34 MiB/s, done.\n",
            "Resolving deltas: 100% (130/130), done.\n"
          ]
        }
      ]
    },
    {
      "cell_type": "code",
      "source": [
        "!pip install resemblyzer"
      ],
      "metadata": {
        "id": "QwGkEBcuma75",
        "colab": {
          "base_uri": "https://localhost:8080/",
          "height": 1000
        },
        "outputId": "e6f2305a-3e69-4f1a-f5b2-e0bedad87417"
      },
      "execution_count": 2,
      "outputs": [
        {
          "output_type": "stream",
          "name": "stdout",
          "text": [
            "Collecting resemblyzer\n",
            "  Downloading Resemblyzer-0.1.4-py3-none-any.whl (15.7 MB)\n",
            "\u001b[2K     \u001b[90m━━━━━━━━━━━━━━━━━━━━━━━━━━━━━━━━━━━━━━━━\u001b[0m \u001b[32m15.7/15.7 MB\u001b[0m \u001b[31m45.5 MB/s\u001b[0m eta \u001b[36m0:00:00\u001b[0m\n",
            "\u001b[?25hRequirement already satisfied: librosa>=0.9.1 in /usr/local/lib/python3.10/dist-packages (from resemblyzer) (0.10.1)\n",
            "Requirement already satisfied: numpy>=1.20.0 in /usr/local/lib/python3.10/dist-packages (from resemblyzer) (1.23.5)\n",
            "Collecting webrtcvad>=2.0.10 (from resemblyzer)\n",
            "  Downloading webrtcvad-2.0.10.tar.gz (66 kB)\n",
            "\u001b[2K     \u001b[90m━━━━━━━━━━━━━━━━━━━━━━━━━━━━━━━━━━━━━━━━\u001b[0m \u001b[32m66.2/66.2 kB\u001b[0m \u001b[31m6.5 MB/s\u001b[0m eta \u001b[36m0:00:00\u001b[0m\n",
            "\u001b[?25h  Preparing metadata (setup.py) ... \u001b[?25l\u001b[?25hdone\n",
            "Requirement already satisfied: torch>=1.0.1 in /usr/local/lib/python3.10/dist-packages (from resemblyzer) (2.0.1+cu118)\n",
            "Requirement already satisfied: scipy>=1.2.1 in /usr/local/lib/python3.10/dist-packages (from resemblyzer) (1.11.3)\n",
            "Collecting typing (from resemblyzer)\n",
            "  Downloading typing-3.7.4.3.tar.gz (78 kB)\n",
            "\u001b[2K     \u001b[90m━━━━━━━━━━━━━━━━━━━━━━━━━━━━━━━━━━━━━━━━\u001b[0m \u001b[32m78.6/78.6 kB\u001b[0m \u001b[31m9.7 MB/s\u001b[0m eta \u001b[36m0:00:00\u001b[0m\n",
            "\u001b[?25h  Preparing metadata (setup.py) ... \u001b[?25l\u001b[?25hdone\n",
            "Requirement already satisfied: audioread>=2.1.9 in /usr/local/lib/python3.10/dist-packages (from librosa>=0.9.1->resemblyzer) (3.0.1)\n",
            "Requirement already satisfied: scikit-learn>=0.20.0 in /usr/local/lib/python3.10/dist-packages (from librosa>=0.9.1->resemblyzer) (1.2.2)\n",
            "Requirement already satisfied: joblib>=0.14 in /usr/local/lib/python3.10/dist-packages (from librosa>=0.9.1->resemblyzer) (1.3.2)\n",
            "Requirement already satisfied: decorator>=4.3.0 in /usr/local/lib/python3.10/dist-packages (from librosa>=0.9.1->resemblyzer) (4.4.2)\n",
            "Requirement already satisfied: numba>=0.51.0 in /usr/local/lib/python3.10/dist-packages (from librosa>=0.9.1->resemblyzer) (0.56.4)\n",
            "Requirement already satisfied: soundfile>=0.12.1 in /usr/local/lib/python3.10/dist-packages (from librosa>=0.9.1->resemblyzer) (0.12.1)\n",
            "Requirement already satisfied: pooch>=1.0 in /usr/local/lib/python3.10/dist-packages (from librosa>=0.9.1->resemblyzer) (1.7.0)\n",
            "Requirement already satisfied: soxr>=0.3.2 in /usr/local/lib/python3.10/dist-packages (from librosa>=0.9.1->resemblyzer) (0.3.7)\n",
            "Requirement already satisfied: typing-extensions>=4.1.1 in /usr/local/lib/python3.10/dist-packages (from librosa>=0.9.1->resemblyzer) (4.5.0)\n",
            "Requirement already satisfied: lazy-loader>=0.1 in /usr/local/lib/python3.10/dist-packages (from librosa>=0.9.1->resemblyzer) (0.3)\n",
            "Requirement already satisfied: msgpack>=1.0 in /usr/local/lib/python3.10/dist-packages (from librosa>=0.9.1->resemblyzer) (1.0.7)\n",
            "Requirement already satisfied: filelock in /usr/local/lib/python3.10/dist-packages (from torch>=1.0.1->resemblyzer) (3.12.4)\n",
            "Requirement already satisfied: sympy in /usr/local/lib/python3.10/dist-packages (from torch>=1.0.1->resemblyzer) (1.12)\n",
            "Requirement already satisfied: networkx in /usr/local/lib/python3.10/dist-packages (from torch>=1.0.1->resemblyzer) (3.1)\n",
            "Requirement already satisfied: jinja2 in /usr/local/lib/python3.10/dist-packages (from torch>=1.0.1->resemblyzer) (3.1.2)\n",
            "Requirement already satisfied: triton==2.0.0 in /usr/local/lib/python3.10/dist-packages (from torch>=1.0.1->resemblyzer) (2.0.0)\n",
            "Requirement already satisfied: cmake in /usr/local/lib/python3.10/dist-packages (from triton==2.0.0->torch>=1.0.1->resemblyzer) (3.27.6)\n",
            "Requirement already satisfied: lit in /usr/local/lib/python3.10/dist-packages (from triton==2.0.0->torch>=1.0.1->resemblyzer) (17.0.2)\n",
            "Requirement already satisfied: llvmlite<0.40,>=0.39.0dev0 in /usr/local/lib/python3.10/dist-packages (from numba>=0.51.0->librosa>=0.9.1->resemblyzer) (0.39.1)\n",
            "Requirement already satisfied: setuptools in /usr/local/lib/python3.10/dist-packages (from numba>=0.51.0->librosa>=0.9.1->resemblyzer) (67.7.2)\n",
            "Requirement already satisfied: platformdirs>=2.5.0 in /usr/local/lib/python3.10/dist-packages (from pooch>=1.0->librosa>=0.9.1->resemblyzer) (3.11.0)\n",
            "Requirement already satisfied: packaging>=20.0 in /usr/local/lib/python3.10/dist-packages (from pooch>=1.0->librosa>=0.9.1->resemblyzer) (23.2)\n",
            "Requirement already satisfied: requests>=2.19.0 in /usr/local/lib/python3.10/dist-packages (from pooch>=1.0->librosa>=0.9.1->resemblyzer) (2.31.0)\n",
            "Requirement already satisfied: threadpoolctl>=2.0.0 in /usr/local/lib/python3.10/dist-packages (from scikit-learn>=0.20.0->librosa>=0.9.1->resemblyzer) (3.2.0)\n",
            "Requirement already satisfied: cffi>=1.0 in /usr/local/lib/python3.10/dist-packages (from soundfile>=0.12.1->librosa>=0.9.1->resemblyzer) (1.16.0)\n",
            "Requirement already satisfied: MarkupSafe>=2.0 in /usr/local/lib/python3.10/dist-packages (from jinja2->torch>=1.0.1->resemblyzer) (2.1.3)\n",
            "Requirement already satisfied: mpmath>=0.19 in /usr/local/lib/python3.10/dist-packages (from sympy->torch>=1.0.1->resemblyzer) (1.3.0)\n",
            "Requirement already satisfied: pycparser in /usr/local/lib/python3.10/dist-packages (from cffi>=1.0->soundfile>=0.12.1->librosa>=0.9.1->resemblyzer) (2.21)\n",
            "Requirement already satisfied: charset-normalizer<4,>=2 in /usr/local/lib/python3.10/dist-packages (from requests>=2.19.0->pooch>=1.0->librosa>=0.9.1->resemblyzer) (3.3.0)\n",
            "Requirement already satisfied: idna<4,>=2.5 in /usr/local/lib/python3.10/dist-packages (from requests>=2.19.0->pooch>=1.0->librosa>=0.9.1->resemblyzer) (3.4)\n",
            "Requirement already satisfied: urllib3<3,>=1.21.1 in /usr/local/lib/python3.10/dist-packages (from requests>=2.19.0->pooch>=1.0->librosa>=0.9.1->resemblyzer) (2.0.6)\n",
            "Requirement already satisfied: certifi>=2017.4.17 in /usr/local/lib/python3.10/dist-packages (from requests>=2.19.0->pooch>=1.0->librosa>=0.9.1->resemblyzer) (2023.7.22)\n",
            "Building wheels for collected packages: webrtcvad, typing\n",
            "  Building wheel for webrtcvad (setup.py) ... \u001b[?25l\u001b[?25hdone\n",
            "  Created wheel for webrtcvad: filename=webrtcvad-2.0.10-cp310-cp310-linux_x86_64.whl size=73461 sha256=1268c0212593e8415cba8fd16e1da0bed5eef95b00272f23c3baf4fbb0d18805\n",
            "  Stored in directory: /root/.cache/pip/wheels/2a/2b/84/ac7bacfe8c68a87c1ee3dd3c66818a54c71599abf308e8eb35\n",
            "  Building wheel for typing (setup.py) ... \u001b[?25l\u001b[?25hdone\n",
            "  Created wheel for typing: filename=typing-3.7.4.3-py3-none-any.whl size=26305 sha256=931b767a915355b5ea7e336c5a811ee91adb6981f49cce4ad6497ed40d279786\n",
            "  Stored in directory: /root/.cache/pip/wheels/7c/d0/9e/1f26ebb66d9e1732e4098bc5a6c2d91f6c9a529838f0284890\n",
            "Successfully built webrtcvad typing\n",
            "Installing collected packages: webrtcvad, typing, resemblyzer\n",
            "Successfully installed resemblyzer-0.1.4 typing-3.7.4.3 webrtcvad-2.0.10\n"
          ]
        },
        {
          "output_type": "display_data",
          "data": {
            "application/vnd.colab-display-data+json": {
              "pip_warning": {
                "packages": [
                  "typing"
                ]
              }
            }
          },
          "metadata": {}
        }
      ]
    },
    {
      "cell_type": "code",
      "source": [
        "from resemblyzer import preprocess_wav,VoiceEncoder\n",
        "from pathlib import Path\n",
        "\n",
        "#give the file path to your audio file\n",
        "audio_file_path = '/content/drive/MyDrive/datasets/speech_diarization/Audio/meeting-clip1.mp3'\n",
        "wav_fpath = Path(audio_file_path)\n",
        "\n",
        "wav = preprocess_wav(wav_fpath)\n",
        "encoder = VoiceEncoder(\"cpu\")\n",
        "_, cont_embeds, wav_splits = encoder.embed_utterance(wav, return_partials=True, rate=16)\n",
        "print(cont_embeds.shape)"
      ],
      "metadata": {
        "colab": {
          "base_uri": "https://localhost:8080/"
        },
        "id": "ysLdtvbkgx2F",
        "outputId": "0a5b70b2-1b4f-4a7e-dbce-0ff31cc4eb24"
      },
      "execution_count": 3,
      "outputs": [
        {
          "output_type": "stream",
          "name": "stdout",
          "text": [
            "Loaded the voice encoder model on cpu in 0.04 seconds.\n",
            "(822, 256)\n"
          ]
        }
      ]
    },
    {
      "cell_type": "code",
      "source": [
        "!pip3 install spectralcluster"
      ],
      "metadata": {
        "colab": {
          "base_uri": "https://localhost:8080/"
        },
        "id": "6dXVwIj2ijYg",
        "outputId": "5c521f55-dcb5-421e-e15d-346bf1de11f2"
      },
      "execution_count": 4,
      "outputs": [
        {
          "output_type": "stream",
          "name": "stdout",
          "text": [
            "Collecting spectralcluster\n",
            "  Downloading spectralcluster-0.2.21-py3-none-any.whl (31 kB)\n",
            "Installing collected packages: spectralcluster\n",
            "Successfully installed spectralcluster-0.2.21\n"
          ]
        }
      ]
    },
    {
      "cell_type": "code",
      "source": [
        "from spectralcluster import RefinementOptions\n",
        "from spectralcluster import ThresholdType\n",
        "from spectralcluster import ICASSP2018_REFINEMENT_SEQUENCE\n",
        "\n",
        "refinement_options = RefinementOptions(\n",
        "    gaussian_blur_sigma=1,\n",
        "    p_percentile=0.90,\n",
        "    )"
      ],
      "metadata": {
        "id": "Dbl9bq0ajBQI"
      },
      "execution_count": 5,
      "outputs": []
    },
    {
      "cell_type": "code",
      "source": [
        "from spectralcluster import SpectralClusterer\n",
        "\n",
        "clusterer = SpectralClusterer(\n",
        "    min_clusters=2,\n",
        "    max_clusters=100,\n",
        "    refinement_options=refinement_options\n",
        "    )\n",
        "\n",
        "labels = clusterer.predict(cont_embeds)"
      ],
      "metadata": {
        "id": "LZekaClCilqJ"
      },
      "execution_count": 6,
      "outputs": []
    },
    {
      "cell_type": "code",
      "source": [
        "def create_labelling(labels,wav_splits):\n",
        "    from resemblyzer import sampling_rate\n",
        "    times = [((s.start + s.stop) / 2) / sampling_rate for s in wav_splits]\n",
        "    labelling = []\n",
        "    start_time = 0\n",
        "\n",
        "    for i,time in enumerate(times):\n",
        "        if i>0 and labels[i]!=labels[i-1]:\n",
        "            temp = [str(labels[i-1]),start_time,time]\n",
        "            labelling.append(tuple(temp))\n",
        "            start_time = time\n",
        "        if i==len(times)-1:\n",
        "            temp = [str(labels[i]),start_time,time]\n",
        "            labelling.append(tuple(temp))\n",
        "\n",
        "    return labelling\n",
        "\n",
        "labelling = create_labelling(labels,wav_splits)"
      ],
      "metadata": {
        "id": "s79nA24sjO8h"
      },
      "execution_count": 7,
      "outputs": []
    },
    {
      "cell_type": "code",
      "source": [
        "labelling"
      ],
      "metadata": {
        "colab": {
          "base_uri": "https://localhost:8080/"
        },
        "id": "M0qp8409jWMB",
        "outputId": "8a0f5f47-143f-48b2-a7f9-ecc7afda6fb3"
      },
      "execution_count": 8,
      "outputs": [
        {
          "output_type": "execute_result",
          "data": {
            "text/plain": [
              "[('1', 0, 3.62),\n",
              " ('0', 3.62, 9.68),\n",
              " ('1', 9.68, 12.02),\n",
              " ('0', 12.02, 12.14),\n",
              " ('1', 12.14, 12.2),\n",
              " ('0', 12.2, 15.44),\n",
              " ('1', 15.44, 15.56),\n",
              " ('0', 15.56, 15.62),\n",
              " ('1', 15.62, 17.42),\n",
              " ('0', 17.42, 18.08),\n",
              " ('1', 18.08, 18.14),\n",
              " ('0', 18.14, 18.2),\n",
              " ('1', 18.2, 18.32),\n",
              " ('0', 18.32, 18.38),\n",
              " ('1', 18.38, 19.88),\n",
              " ('0', 19.88, 22.52),\n",
              " ('1', 22.52, 24.38),\n",
              " ('0', 24.38, 25.04),\n",
              " ('1', 25.04, 25.7),\n",
              " ('0', 25.7, 25.76),\n",
              " ('1', 25.76, 25.88),\n",
              " ('0', 25.88, 26.06),\n",
              " ('1', 26.06, 26.12),\n",
              " ('0', 26.12, 28.34),\n",
              " ('1', 28.34, 28.58),\n",
              " ('0', 28.58, 28.7),\n",
              " ('1', 28.7, 28.76),\n",
              " ('0', 28.76, 34.34),\n",
              " ('1', 34.34, 34.7),\n",
              " ('0', 34.7, 34.76),\n",
              " ('1', 34.76, 34.82),\n",
              " ('0', 34.82, 35.54),\n",
              " ('1', 35.54, 35.84),\n",
              " ('0', 35.84, 35.96),\n",
              " ('1', 35.96, 36.02),\n",
              " ('0', 36.02, 37.46),\n",
              " ('1', 37.46, 39.02),\n",
              " ('0', 39.02, 40.28),\n",
              " ('1', 40.28, 41.48),\n",
              " ('0', 41.48, 42.08),\n",
              " ('1', 42.08, 42.14),\n",
              " ('0', 42.14, 42.92),\n",
              " ('1', 42.92, 44.6),\n",
              " ('0', 44.6, 45.62),\n",
              " ('1', 45.62, 45.92),\n",
              " ('0', 45.92, 46.22),\n",
              " ('1', 46.22, 46.58),\n",
              " ('0', 46.58, 47.0),\n",
              " ('1', 47.0, 49.88),\n",
              " ('0', 49.88, 50.06)]"
            ]
          },
          "metadata": {},
          "execution_count": 8
        }
      ]
    },
    {
      "cell_type": "code",
      "source": [
        "for label in labelling:\n",
        "  print(f\"speaker {label[0]} spoke from {label[1]} seconds to {label[2]} seconds\")"
      ],
      "metadata": {
        "colab": {
          "base_uri": "https://localhost:8080/"
        },
        "id": "6nuetmWDjqHQ",
        "outputId": "db7f7e32-593d-4d3d-b56e-d64042756189"
      },
      "execution_count": 9,
      "outputs": [
        {
          "output_type": "stream",
          "name": "stdout",
          "text": [
            "speaker 1 spoke from 0 seconds to 3.62 seconds\n",
            "speaker 0 spoke from 3.62 seconds to 9.68 seconds\n",
            "speaker 1 spoke from 9.68 seconds to 12.02 seconds\n",
            "speaker 0 spoke from 12.02 seconds to 12.14 seconds\n",
            "speaker 1 spoke from 12.14 seconds to 12.2 seconds\n",
            "speaker 0 spoke from 12.2 seconds to 15.44 seconds\n",
            "speaker 1 spoke from 15.44 seconds to 15.56 seconds\n",
            "speaker 0 spoke from 15.56 seconds to 15.62 seconds\n",
            "speaker 1 spoke from 15.62 seconds to 17.42 seconds\n",
            "speaker 0 spoke from 17.42 seconds to 18.08 seconds\n",
            "speaker 1 spoke from 18.08 seconds to 18.14 seconds\n",
            "speaker 0 spoke from 18.14 seconds to 18.2 seconds\n",
            "speaker 1 spoke from 18.2 seconds to 18.32 seconds\n",
            "speaker 0 spoke from 18.32 seconds to 18.38 seconds\n",
            "speaker 1 spoke from 18.38 seconds to 19.88 seconds\n",
            "speaker 0 spoke from 19.88 seconds to 22.52 seconds\n",
            "speaker 1 spoke from 22.52 seconds to 24.38 seconds\n",
            "speaker 0 spoke from 24.38 seconds to 25.04 seconds\n",
            "speaker 1 spoke from 25.04 seconds to 25.7 seconds\n",
            "speaker 0 spoke from 25.7 seconds to 25.76 seconds\n",
            "speaker 1 spoke from 25.76 seconds to 25.88 seconds\n",
            "speaker 0 spoke from 25.88 seconds to 26.06 seconds\n",
            "speaker 1 spoke from 26.06 seconds to 26.12 seconds\n",
            "speaker 0 spoke from 26.12 seconds to 28.34 seconds\n",
            "speaker 1 spoke from 28.34 seconds to 28.58 seconds\n",
            "speaker 0 spoke from 28.58 seconds to 28.7 seconds\n",
            "speaker 1 spoke from 28.7 seconds to 28.76 seconds\n",
            "speaker 0 spoke from 28.76 seconds to 34.34 seconds\n",
            "speaker 1 spoke from 34.34 seconds to 34.7 seconds\n",
            "speaker 0 spoke from 34.7 seconds to 34.76 seconds\n",
            "speaker 1 spoke from 34.76 seconds to 34.82 seconds\n",
            "speaker 0 spoke from 34.82 seconds to 35.54 seconds\n",
            "speaker 1 spoke from 35.54 seconds to 35.84 seconds\n",
            "speaker 0 spoke from 35.84 seconds to 35.96 seconds\n",
            "speaker 1 spoke from 35.96 seconds to 36.02 seconds\n",
            "speaker 0 spoke from 36.02 seconds to 37.46 seconds\n",
            "speaker 1 spoke from 37.46 seconds to 39.02 seconds\n",
            "speaker 0 spoke from 39.02 seconds to 40.28 seconds\n",
            "speaker 1 spoke from 40.28 seconds to 41.48 seconds\n",
            "speaker 0 spoke from 41.48 seconds to 42.08 seconds\n",
            "speaker 1 spoke from 42.08 seconds to 42.14 seconds\n",
            "speaker 0 spoke from 42.14 seconds to 42.92 seconds\n",
            "speaker 1 spoke from 42.92 seconds to 44.6 seconds\n",
            "speaker 0 spoke from 44.6 seconds to 45.62 seconds\n",
            "speaker 1 spoke from 45.62 seconds to 45.92 seconds\n",
            "speaker 0 spoke from 45.92 seconds to 46.22 seconds\n",
            "speaker 1 spoke from 46.22 seconds to 46.58 seconds\n",
            "speaker 0 spoke from 46.58 seconds to 47.0 seconds\n",
            "speaker 1 spoke from 47.0 seconds to 49.88 seconds\n",
            "speaker 0 spoke from 49.88 seconds to 50.06 seconds\n"
          ]
        }
      ]
    }
  ],
  "metadata": {
    "colab": {
      "provenance": []
    },
    "kernelspec": {
      "display_name": "Python 3",
      "name": "python3"
    },
    "language_info": {
      "name": "python"
    }
  },
  "nbformat": 4,
  "nbformat_minor": 0
}